{
 "cells": [
  {
   "cell_type": "code",
   "execution_count": 6,
   "metadata": {},
   "outputs": [
    {
     "data": {
      "text/plain": [
       "RendererRegistry.enable('notebook')"
      ]
     },
     "execution_count": 6,
     "metadata": {},
     "output_type": "execute_result"
    }
   ],
   "source": [
    "#################################################################\n",
    "## We need Altair, Pandas, and JSON packages.\n",
    "## For computing TF-IDF, we need scikit-learn, however, we only\n",
    "## import that inside showTopWords(). You will need to install\n",
    "## scikit-learn if you'd like to run the second visualization.\n",
    "#################################################################\n",
    "import altair as alt\n",
    "import pandas as pd\n",
    "import json\n",
    "\n",
    "alt.renderers.enable('notebook')"
   ]
  },
  {
   "cell_type": "code",
   "execution_count": 7,
   "metadata": {},
   "outputs": [],
   "source": [
    "def loadData():\n",
    "    \"\"\"Load reviews from ios_reviews.json and android_reviews.json\n",
    "    \n",
    "    Args:\n",
    "        contents (iterable): an iterable of 'str' containing the review contents\n",
    "\n",
    "    Return:\n",
    "        dict (of DataFrame): key is platform name, value is the corresponding\n",
    "            data frame containing 'name', 'rating', and 'content'.\n",
    "    \"\"\"\n",
    "    ios_reviews = json.load(open('ios_reviews.json', 'r'))\n",
    "    android_reviews = json.load(open('android_reviews.json', 'r'))\n",
    "\n",
    "    ## We ignore the \n",
    "    dfIOS = pd.DataFrame(((app, review['rating'], review['review'])\n",
    "                          for app,reviews in ios_reviews.items() \n",
    "                          for review in reviews), columns=['name', 'rating', 'content'])\n",
    "    dfAndroid = pd.DataFrame(((app, review['rating'], review['review'])\n",
    "                              for app,reviews in android_reviews.items()\n",
    "                              for review in reviews), columns=['name', 'rating', 'content'])\n",
    "    return {'ios': dfIOS, 'android': dfAndroid}\n",
    "\n",
    "def showRatingDistribution(data, name=''):\n",
    "    \"\"\"Create an interaactive visualization showing the distribution of ratings\n",
    "    \n",
    "    Args:\n",
    "        data (DataFrame): the input data frame that must at least consists\n",
    "            two columns 'name' and 'rating' for app names and ratings.\n",
    "        name (str): the name of the platform (optional) to be displayed.\n",
    "\n",
    "    Return:\n",
    "        Chart: an Altair chart object that corresponds to the visualization\n",
    "    \"\"\"\n",
    "    ## The color expression for highlighting the bar under mouse\n",
    "    color_expression    = \"highlight._vgsid_==datum._vgsid_\"\n",
    "    color_condition     = alt.ConditionalPredicateValueDef(color_expression, \"SteelBlue\")\n",
    "    \n",
    "    ## There are two types of selection in our chart:\n",
    "    ## (1) A selection for highlighting a bar when the mouse is hovering over\n",
    "    highlight_selection = alt.selection_single(name=\"highlight\", empty=\"all\", on=\"mouseover\")\n",
    "    \n",
    "    ## (2) A selection for updating the rating distribution when the mouse is clicked\n",
    "    ## Note the encodings=['y'] parameter is needed to specify that once a selection\n",
    "    ## is triggered, it will propagate the encoding channel 'y' as a condition for\n",
    "    ## any subsequent filter done on this selection. In short, it means use the data\n",
    "    ## field associated with the 'y' axis as a potential filter condition.\n",
    "    rating_selection    = alt.selection_single(name=\"rating\", empty=\"all\", encodings=['y'])\n",
    "    \n",
    "    ## We need to compute the max count to scale our distribution appropriately\n",
    "    maxCount            = int(data['rating'].value_counts().max())\n",
    "\n",
    "    ## Our visualization consists of two bar charts placed side by side. The first one\n",
    "    ## sorts the apps by their average ratings as below. Note the compound selection\n",
    "    ## that is constructed by adding the two selections together.\n",
    "    barMean = alt.Chart() \\\n",
    "        .mark_bar(stroke=\"Black\") \\\n",
    "        .encode(\n",
    "            alt.X(\"mean(rating):Q\", axis=alt.Axis(title=\"Rating\")),\n",
    "            alt.Y('name:O', axis=alt.Axis(title=\"{} App Name\".format(name)), \n",
    "                  sort=alt.SortField(field=\"rating\", op=\"mean\", order='descending')),\n",
    "            alt.ColorValue(\"LightGrey\", condition=color_condition),\n",
    "        ).properties(\n",
    "            selection = highlight_selection+rating_selection,\n",
    "        )\n",
    "\n",
    "    ## The second one uses the selected app specified by the rating_selection\n",
    "    ## to filter the data, and build a histogram based on the ratings. Note\n",
    "    ## the use of rating_selection.ref() as a condition for transform_filter().\n",
    "    ## The scale was explicitly constructed for the X axis to fill out the \n",
    "    ## the potential empty values, e.g. no one gave an app a score of 3, but\n",
    "    ## we still want to show 1, 2, 3, 4, and 5 in the axis (but not in with .5).\n",
    "    barRating = alt.Chart() \\\n",
    "        .mark_bar(stroke=\"Black\") \\\n",
    "        .encode(\n",
    "            alt.X(\"rating:O\", axis=alt.Axis(title=\"Rating\"),\n",
    "                  scale=alt.Scale(type='band', domain=list(range(1,6))),\n",
    "                 ),\n",
    "            alt.Y(\"count()\", axis=alt.Axis(title=\"Number of Ratings\"),\n",
    "                  scale=alt.Scale(domain=(0,maxCount)),\n",
    "                 ),\n",
    "            alt.ColorValue(\"LightGrey\"),\n",
    "        ).properties(\n",
    "            selection = highlight_selection,\n",
    "        ).transform_filter(\n",
    "            rating_selection.ref()\n",
    "        )\n",
    "        \n",
    "    ## We just need to concatenate the plots horizontally, and return the result.\n",
    "    return alt.hconcat(barMean, barRating,\n",
    "        data=data,\n",
    "        title=\"{} App Ratings\".format(name)\n",
    "    )\n",
    "\n",
    "def showTopWords(contents):\n",
    "    \"\"\"Create a plot showing important words in the review contents\n",
    "    \n",
    "    Args:\n",
    "        contents (iterable): an iterable of 'str' containing the review contents\n",
    "\n",
    "    Return:\n",
    "        Chart: an Altair chart object that corresponds to the visualization\n",
    "    \"\"\"\n",
    "    ## We import sklearn inside the function to avoid the global requirement\n",
    "    from sklearn.feature_extraction.text import TfidfVectorizer\n",
    "    \n",
    "    def removeStopWords(contents):\n",
    "        \"\"\"Go through each message and remove unimportant (stop) words\"\"\"\n",
    "        import re\n",
    "        separator = re.compile('\\W+')\n",
    "        ## We load the list of stopwords from stopwords.txt\n",
    "        stopwords = set(map(lambda x: x.strip(), open('stopwords.txt', 'r').readlines()))\n",
    "        ## ... and add the popular word \"app\" to add\n",
    "        stopwords.add('app')\n",
    "        words = []\n",
    "        for line in contents:\n",
    "            words.append(' '.join(w for w in separator.split(line.lower())\n",
    "                                  if w and w not in stopwords))\n",
    "        return words\n",
    "\n",
    "    def plotWords(dfWords):\n",
    "        \"\"\"Create the plot based on the data frame of words and the number of\n",
    "        reviews they appear in\"\"\"\n",
    "        \n",
    "        ## This is similar to the bar chart above, except that we dont' have\n",
    "        ## to deal with selections\n",
    "        color_expression    = \"highlight._vgsid_==datum._vgsid_\"\n",
    "        color_condition     = alt.ConditionalPredicateValueDef(color_expression, \"SteelBlue\")\n",
    "        highlight_selection = alt.selection_single(name=\"highlight\", empty=\"all\", on=\"mouseover\")\n",
    "        maxCount            = int(dfWords['freq'].max())\n",
    "\n",
    "        return alt.Chart(dfWords) \\\n",
    "            .mark_bar(stroke=\"Black\") \\\n",
    "            .encode(\n",
    "                alt.X(\"freq\", axis=alt.Axis(title=\"Count\", tickCount=min(maxCount, 6))),\n",
    "                alt.Y('word:O', axis=alt.Axis(title=\"Keyword\"),\n",
    "                      sort=alt.SortField(field=\"freq\", op=\"max\", order='descending')),\n",
    "                alt.ColorValue(\"LightGrey\", condition=color_condition),\n",
    "            ).properties(\n",
    "                selection = highlight_selection\n",
    "            )\n",
    "\n",
    "    ## Our pipeline is to remove the stop words from each review, and then compute\n",
    "    ## TF-IDF for each remaining word.\n",
    "    words = removeStopWords(contents.dropna())\n",
    "    tfidf = TfidfVectorizer()\n",
    "    model = tfidf.fit_transform(words)\n",
    "    features = tfidf.get_feature_names()\n",
    "    topWords = {}\n",
    "    \n",
    "    ## We only keep the words that has the normalized weight of some threshold,\n",
    "    ## e.g. 0.2 or larger.\n",
    "    for row in model:\n",
    "        words = list(map(lambda x: features[x[0]], \n",
    "                         sorted(filter(lambda x: x[1]>0.2, \n",
    "                                       enumerate(row.toarray().tolist()[0])), \n",
    "                                key=lambda x: -x[1])))\n",
    "        for w in words:\n",
    "            topWords[w] = topWords.get(w, 0)+1\n",
    "            \n",
    "    ## ... and compute its frequency, i.e. how many reviews it appeared in.\n",
    "    ## Then creating a data frame of words with at least 2 appearances.\n",
    "    dfWords = pd.DataFrame(list(filter(lambda x: x[1]>2, topWords.items())), \n",
    "                           columns=['word', 'freq'])\n",
    "    \n",
    "    ## Before feeding the top ten to our plot function\n",
    "    return plotWords(dfWords[:10])\n"
   ]
  },
  {
   "cell_type": "code",
   "execution_count": 8,
   "metadata": {},
   "outputs": [
    {
     "data": {
      "text/plain": [
       "506"
      ]
     },
     "execution_count": 8,
     "metadata": {},
     "output_type": "execute_result"
    }
   ],
   "source": [
    "data = loadData()\n",
    "dfIOS = data['ios']\n",
    "dfAndroid = data['android']\n",
    "len(dfIOS) + len(dfAndroid)"
   ]
  },
  {
   "cell_type": "code",
   "execution_count": 9,
   "metadata": {
    "scrolled": true
   },
   "outputs": [
    {
     "ename": "SchemaValidationError",
     "evalue": "Invalid specification\n\n        altair.vegalite.v2.schema.core.SortField, validating 'additionalProperties'\n\n        Additional properties are not allowed ('op' was unexpected)\n        ",
     "output_type": "error",
     "traceback": [
      "\u001b[0;31m---------------------------------------------------------------------------\u001b[0m",
      "\u001b[0;31mSchemaValidationError\u001b[0m                     Traceback (most recent call last)",
      "\u001b[0;32m<ipython-input-9-12ed70f00bf7>\u001b[0m in \u001b[0;36m<module>\u001b[0;34m\u001b[0m\n\u001b[0;32m----> 1\u001b[0;31m \u001b[0mshowRatingDistribution\u001b[0m\u001b[0;34m(\u001b[0m\u001b[0mdfAndroid\u001b[0m\u001b[0;34m,\u001b[0m \u001b[0;34m'iOS'\u001b[0m\u001b[0;34m)\u001b[0m\u001b[0;34m\u001b[0m\u001b[0m\n\u001b[0m",
      "\u001b[0;32m<ipython-input-7-04e16553bba8>\u001b[0m in \u001b[0;36mshowRatingDistribution\u001b[0;34m(data, name)\u001b[0m\n\u001b[1;32m     58\u001b[0m             \u001b[0malt\u001b[0m\u001b[0;34m.\u001b[0m\u001b[0mX\u001b[0m\u001b[0;34m(\u001b[0m\u001b[0;34m\"mean(rating):Q\"\u001b[0m\u001b[0;34m,\u001b[0m \u001b[0maxis\u001b[0m\u001b[0;34m=\u001b[0m\u001b[0malt\u001b[0m\u001b[0;34m.\u001b[0m\u001b[0mAxis\u001b[0m\u001b[0;34m(\u001b[0m\u001b[0mtitle\u001b[0m\u001b[0;34m=\u001b[0m\u001b[0;34m\"Rating\"\u001b[0m\u001b[0;34m)\u001b[0m\u001b[0;34m)\u001b[0m\u001b[0;34m,\u001b[0m\u001b[0;34m\u001b[0m\u001b[0m\n\u001b[1;32m     59\u001b[0m             alt.Y('name:O', axis=alt.Axis(title=\"{} App Name\".format(name)), \n\u001b[0;32m---> 60\u001b[0;31m                   sort=alt.SortField(field=\"rating\", op=\"mean\", order='descending')),\n\u001b[0m\u001b[1;32m     61\u001b[0m             \u001b[0malt\u001b[0m\u001b[0;34m.\u001b[0m\u001b[0mColorValue\u001b[0m\u001b[0;34m(\u001b[0m\u001b[0;34m\"LightGrey\"\u001b[0m\u001b[0;34m,\u001b[0m \u001b[0mcondition\u001b[0m\u001b[0;34m=\u001b[0m\u001b[0mcolor_condition\u001b[0m\u001b[0;34m)\u001b[0m\u001b[0;34m,\u001b[0m\u001b[0;34m\u001b[0m\u001b[0m\n\u001b[1;32m     62\u001b[0m         \u001b[0;34m)\u001b[0m\u001b[0;34m.\u001b[0m\u001b[0mproperties\u001b[0m\u001b[0;34m(\u001b[0m\u001b[0;34m\u001b[0m\u001b[0m\n",
      "\u001b[0;32m~/.local/lib/python3.7/site-packages/altair/vegalite/v2/schema/core.py\u001b[0m in \u001b[0;36m__init__\u001b[0;34m(self, field, order, **kwds)\u001b[0m\n\u001b[1;32m   7320\u001b[0m \u001b[0;34m\u001b[0m\u001b[0m\n\u001b[1;32m   7321\u001b[0m     \u001b[0;32mdef\u001b[0m \u001b[0m__init__\u001b[0m\u001b[0;34m(\u001b[0m\u001b[0mself\u001b[0m\u001b[0;34m,\u001b[0m \u001b[0mfield\u001b[0m\u001b[0;34m=\u001b[0m\u001b[0mUndefined\u001b[0m\u001b[0;34m,\u001b[0m \u001b[0morder\u001b[0m\u001b[0;34m=\u001b[0m\u001b[0mUndefined\u001b[0m\u001b[0;34m,\u001b[0m \u001b[0;34m**\u001b[0m\u001b[0mkwds\u001b[0m\u001b[0;34m)\u001b[0m\u001b[0;34m:\u001b[0m\u001b[0;34m\u001b[0m\u001b[0m\n\u001b[0;32m-> 7322\u001b[0;31m         \u001b[0msuper\u001b[0m\u001b[0;34m(\u001b[0m\u001b[0mSortField\u001b[0m\u001b[0;34m,\u001b[0m \u001b[0mself\u001b[0m\u001b[0;34m)\u001b[0m\u001b[0;34m.\u001b[0m\u001b[0m__init__\u001b[0m\u001b[0;34m(\u001b[0m\u001b[0mfield\u001b[0m\u001b[0;34m=\u001b[0m\u001b[0mfield\u001b[0m\u001b[0;34m,\u001b[0m \u001b[0morder\u001b[0m\u001b[0;34m=\u001b[0m\u001b[0morder\u001b[0m\u001b[0;34m,\u001b[0m \u001b[0;34m**\u001b[0m\u001b[0mkwds\u001b[0m\u001b[0;34m)\u001b[0m\u001b[0;34m\u001b[0m\u001b[0m\n\u001b[0m\u001b[1;32m   7323\u001b[0m \u001b[0;34m\u001b[0m\u001b[0m\n\u001b[1;32m   7324\u001b[0m \u001b[0;34m\u001b[0m\u001b[0m\n",
      "\u001b[0;32m~/.local/lib/python3.7/site-packages/altair/utils/schemapi.py\u001b[0m in \u001b[0;36m__init__\u001b[0;34m(self, *args, **kwds)\u001b[0m\n\u001b[1;32m    128\u001b[0m \u001b[0;34m\u001b[0m\u001b[0m\n\u001b[1;32m    129\u001b[0m         \u001b[0;32mif\u001b[0m \u001b[0mDEBUG_MODE\u001b[0m \u001b[0;32mand\u001b[0m \u001b[0mself\u001b[0m\u001b[0;34m.\u001b[0m\u001b[0m_class_is_valid_at_instantiation\u001b[0m\u001b[0;34m:\u001b[0m\u001b[0;34m\u001b[0m\u001b[0m\n\u001b[0;32m--> 130\u001b[0;31m             \u001b[0mself\u001b[0m\u001b[0;34m.\u001b[0m\u001b[0mto_dict\u001b[0m\u001b[0;34m(\u001b[0m\u001b[0mvalidate\u001b[0m\u001b[0;34m=\u001b[0m\u001b[0;32mTrue\u001b[0m\u001b[0;34m)\u001b[0m\u001b[0;34m\u001b[0m\u001b[0m\n\u001b[0m\u001b[1;32m    131\u001b[0m \u001b[0;34m\u001b[0m\u001b[0m\n\u001b[1;32m    132\u001b[0m     \u001b[0;32mdef\u001b[0m \u001b[0mcopy\u001b[0m\u001b[0;34m(\u001b[0m\u001b[0mself\u001b[0m\u001b[0;34m,\u001b[0m \u001b[0mdeep\u001b[0m\u001b[0;34m=\u001b[0m\u001b[0;32mTrue\u001b[0m\u001b[0;34m,\u001b[0m \u001b[0mignore\u001b[0m\u001b[0;34m=\u001b[0m\u001b[0;34m(\u001b[0m\u001b[0;34m)\u001b[0m\u001b[0;34m)\u001b[0m\u001b[0;34m:\u001b[0m\u001b[0;34m\u001b[0m\u001b[0m\n",
      "\u001b[0;32m~/.local/lib/python3.7/site-packages/altair/utils/schemapi.py\u001b[0m in \u001b[0;36mto_dict\u001b[0;34m(self, validate, ignore, context)\u001b[0m\n\u001b[1;32m    252\u001b[0m                 \u001b[0mself\u001b[0m\u001b[0;34m.\u001b[0m\u001b[0mvalidate\u001b[0m\u001b[0;34m(\u001b[0m\u001b[0mresult\u001b[0m\u001b[0;34m)\u001b[0m\u001b[0;34m\u001b[0m\u001b[0m\n\u001b[1;32m    253\u001b[0m             \u001b[0;32mexcept\u001b[0m \u001b[0mjsonschema\u001b[0m\u001b[0;34m.\u001b[0m\u001b[0mValidationError\u001b[0m \u001b[0;32mas\u001b[0m \u001b[0merr\u001b[0m\u001b[0;34m:\u001b[0m\u001b[0;34m\u001b[0m\u001b[0m\n\u001b[0;32m--> 254\u001b[0;31m                 \u001b[0;32mraise\u001b[0m \u001b[0mSchemaValidationError\u001b[0m\u001b[0;34m(\u001b[0m\u001b[0mself\u001b[0m\u001b[0;34m,\u001b[0m \u001b[0merr\u001b[0m\u001b[0;34m)\u001b[0m\u001b[0;34m\u001b[0m\u001b[0m\n\u001b[0m\u001b[1;32m    255\u001b[0m         \u001b[0;32mreturn\u001b[0m \u001b[0mresult\u001b[0m\u001b[0;34m\u001b[0m\u001b[0m\n\u001b[1;32m    256\u001b[0m \u001b[0;34m\u001b[0m\u001b[0m\n",
      "\u001b[0;31mSchemaValidationError\u001b[0m: Invalid specification\n\n        altair.vegalite.v2.schema.core.SortField, validating 'additionalProperties'\n\n        Additional properties are not allowed ('op' was unexpected)\n        "
     ]
    }
   ],
   "source": [
    "showRatingDistribution(dfAndroid, 'iOS')"
   ]
  },
  {
   "cell_type": "code",
   "execution_count": 10,
   "metadata": {},
   "outputs": [
    {
     "ename": "SchemaValidationError",
     "evalue": "Invalid specification\n\n        altair.vegalite.v2.schema.core.SortField, validating 'additionalProperties'\n\n        Additional properties are not allowed ('op' was unexpected)\n        ",
     "output_type": "error",
     "traceback": [
      "\u001b[0;31m---------------------------------------------------------------------------\u001b[0m",
      "\u001b[0;31mSchemaValidationError\u001b[0m                     Traceback (most recent call last)",
      "\u001b[0;32m<ipython-input-10-64d9bd29690d>\u001b[0m in \u001b[0;36m<module>\u001b[0;34m\u001b[0m\n\u001b[0;32m----> 1\u001b[0;31m \u001b[0mshowRatingDistribution\u001b[0m\u001b[0;34m(\u001b[0m\u001b[0mdfAndroid\u001b[0m\u001b[0;34m,\u001b[0m \u001b[0;34m'Android'\u001b[0m\u001b[0;34m)\u001b[0m\u001b[0;34m\u001b[0m\u001b[0m\n\u001b[0m",
      "\u001b[0;32m<ipython-input-7-04e16553bba8>\u001b[0m in \u001b[0;36mshowRatingDistribution\u001b[0;34m(data, name)\u001b[0m\n\u001b[1;32m     58\u001b[0m             \u001b[0malt\u001b[0m\u001b[0;34m.\u001b[0m\u001b[0mX\u001b[0m\u001b[0;34m(\u001b[0m\u001b[0;34m\"mean(rating):Q\"\u001b[0m\u001b[0;34m,\u001b[0m \u001b[0maxis\u001b[0m\u001b[0;34m=\u001b[0m\u001b[0malt\u001b[0m\u001b[0;34m.\u001b[0m\u001b[0mAxis\u001b[0m\u001b[0;34m(\u001b[0m\u001b[0mtitle\u001b[0m\u001b[0;34m=\u001b[0m\u001b[0;34m\"Rating\"\u001b[0m\u001b[0;34m)\u001b[0m\u001b[0;34m)\u001b[0m\u001b[0;34m,\u001b[0m\u001b[0;34m\u001b[0m\u001b[0m\n\u001b[1;32m     59\u001b[0m             alt.Y('name:O', axis=alt.Axis(title=\"{} App Name\".format(name)), \n\u001b[0;32m---> 60\u001b[0;31m                   sort=alt.SortField(field=\"rating\", op=\"mean\", order='descending')),\n\u001b[0m\u001b[1;32m     61\u001b[0m             \u001b[0malt\u001b[0m\u001b[0;34m.\u001b[0m\u001b[0mColorValue\u001b[0m\u001b[0;34m(\u001b[0m\u001b[0;34m\"LightGrey\"\u001b[0m\u001b[0;34m,\u001b[0m \u001b[0mcondition\u001b[0m\u001b[0;34m=\u001b[0m\u001b[0mcolor_condition\u001b[0m\u001b[0;34m)\u001b[0m\u001b[0;34m,\u001b[0m\u001b[0;34m\u001b[0m\u001b[0m\n\u001b[1;32m     62\u001b[0m         \u001b[0;34m)\u001b[0m\u001b[0;34m.\u001b[0m\u001b[0mproperties\u001b[0m\u001b[0;34m(\u001b[0m\u001b[0;34m\u001b[0m\u001b[0m\n",
      "\u001b[0;32m~/.local/lib/python3.7/site-packages/altair/vegalite/v2/schema/core.py\u001b[0m in \u001b[0;36m__init__\u001b[0;34m(self, field, order, **kwds)\u001b[0m\n\u001b[1;32m   7320\u001b[0m \u001b[0;34m\u001b[0m\u001b[0m\n\u001b[1;32m   7321\u001b[0m     \u001b[0;32mdef\u001b[0m \u001b[0m__init__\u001b[0m\u001b[0;34m(\u001b[0m\u001b[0mself\u001b[0m\u001b[0;34m,\u001b[0m \u001b[0mfield\u001b[0m\u001b[0;34m=\u001b[0m\u001b[0mUndefined\u001b[0m\u001b[0;34m,\u001b[0m \u001b[0morder\u001b[0m\u001b[0;34m=\u001b[0m\u001b[0mUndefined\u001b[0m\u001b[0;34m,\u001b[0m \u001b[0;34m**\u001b[0m\u001b[0mkwds\u001b[0m\u001b[0;34m)\u001b[0m\u001b[0;34m:\u001b[0m\u001b[0;34m\u001b[0m\u001b[0m\n\u001b[0;32m-> 7322\u001b[0;31m         \u001b[0msuper\u001b[0m\u001b[0;34m(\u001b[0m\u001b[0mSortField\u001b[0m\u001b[0;34m,\u001b[0m \u001b[0mself\u001b[0m\u001b[0;34m)\u001b[0m\u001b[0;34m.\u001b[0m\u001b[0m__init__\u001b[0m\u001b[0;34m(\u001b[0m\u001b[0mfield\u001b[0m\u001b[0;34m=\u001b[0m\u001b[0mfield\u001b[0m\u001b[0;34m,\u001b[0m \u001b[0morder\u001b[0m\u001b[0;34m=\u001b[0m\u001b[0morder\u001b[0m\u001b[0;34m,\u001b[0m \u001b[0;34m**\u001b[0m\u001b[0mkwds\u001b[0m\u001b[0;34m)\u001b[0m\u001b[0;34m\u001b[0m\u001b[0m\n\u001b[0m\u001b[1;32m   7323\u001b[0m \u001b[0;34m\u001b[0m\u001b[0m\n\u001b[1;32m   7324\u001b[0m \u001b[0;34m\u001b[0m\u001b[0m\n",
      "\u001b[0;32m~/.local/lib/python3.7/site-packages/altair/utils/schemapi.py\u001b[0m in \u001b[0;36m__init__\u001b[0;34m(self, *args, **kwds)\u001b[0m\n\u001b[1;32m    128\u001b[0m \u001b[0;34m\u001b[0m\u001b[0m\n\u001b[1;32m    129\u001b[0m         \u001b[0;32mif\u001b[0m \u001b[0mDEBUG_MODE\u001b[0m \u001b[0;32mand\u001b[0m \u001b[0mself\u001b[0m\u001b[0;34m.\u001b[0m\u001b[0m_class_is_valid_at_instantiation\u001b[0m\u001b[0;34m:\u001b[0m\u001b[0;34m\u001b[0m\u001b[0m\n\u001b[0;32m--> 130\u001b[0;31m             \u001b[0mself\u001b[0m\u001b[0;34m.\u001b[0m\u001b[0mto_dict\u001b[0m\u001b[0;34m(\u001b[0m\u001b[0mvalidate\u001b[0m\u001b[0;34m=\u001b[0m\u001b[0;32mTrue\u001b[0m\u001b[0;34m)\u001b[0m\u001b[0;34m\u001b[0m\u001b[0m\n\u001b[0m\u001b[1;32m    131\u001b[0m \u001b[0;34m\u001b[0m\u001b[0m\n\u001b[1;32m    132\u001b[0m     \u001b[0;32mdef\u001b[0m \u001b[0mcopy\u001b[0m\u001b[0;34m(\u001b[0m\u001b[0mself\u001b[0m\u001b[0;34m,\u001b[0m \u001b[0mdeep\u001b[0m\u001b[0;34m=\u001b[0m\u001b[0;32mTrue\u001b[0m\u001b[0;34m,\u001b[0m \u001b[0mignore\u001b[0m\u001b[0;34m=\u001b[0m\u001b[0;34m(\u001b[0m\u001b[0;34m)\u001b[0m\u001b[0;34m)\u001b[0m\u001b[0;34m:\u001b[0m\u001b[0;34m\u001b[0m\u001b[0m\n",
      "\u001b[0;32m~/.local/lib/python3.7/site-packages/altair/utils/schemapi.py\u001b[0m in \u001b[0;36mto_dict\u001b[0;34m(self, validate, ignore, context)\u001b[0m\n\u001b[1;32m    252\u001b[0m                 \u001b[0mself\u001b[0m\u001b[0;34m.\u001b[0m\u001b[0mvalidate\u001b[0m\u001b[0;34m(\u001b[0m\u001b[0mresult\u001b[0m\u001b[0;34m)\u001b[0m\u001b[0;34m\u001b[0m\u001b[0m\n\u001b[1;32m    253\u001b[0m             \u001b[0;32mexcept\u001b[0m \u001b[0mjsonschema\u001b[0m\u001b[0;34m.\u001b[0m\u001b[0mValidationError\u001b[0m \u001b[0;32mas\u001b[0m \u001b[0merr\u001b[0m\u001b[0;34m:\u001b[0m\u001b[0;34m\u001b[0m\u001b[0m\n\u001b[0;32m--> 254\u001b[0;31m                 \u001b[0;32mraise\u001b[0m \u001b[0mSchemaValidationError\u001b[0m\u001b[0;34m(\u001b[0m\u001b[0mself\u001b[0m\u001b[0;34m,\u001b[0m \u001b[0merr\u001b[0m\u001b[0;34m)\u001b[0m\u001b[0;34m\u001b[0m\u001b[0m\n\u001b[0m\u001b[1;32m    255\u001b[0m         \u001b[0;32mreturn\u001b[0m \u001b[0mresult\u001b[0m\u001b[0;34m\u001b[0m\u001b[0m\n\u001b[1;32m    256\u001b[0m \u001b[0;34m\u001b[0m\u001b[0m\n",
      "\u001b[0;31mSchemaValidationError\u001b[0m: Invalid specification\n\n        altair.vegalite.v2.schema.core.SortField, validating 'additionalProperties'\n\n        Additional properties are not allowed ('op' was unexpected)\n        "
     ]
    }
   ],
   "source": [
    "showRatingDistribution(dfAndroid, 'Android')"
   ]
  },
  {
   "cell_type": "code",
   "execution_count": 6,
   "metadata": {},
   "outputs": [
    {
     "data": {
      "text/html": [
       "<div class=\"vega-embed\" id=\"bd735725-3dd4-477c-ac14-1e97467ef61c\"></div>\n",
       "\n",
       "<style>\n",
       ".vega-embed svg, .vega-embed canvas {\n",
       "    border: 1px dotted gray;\n",
       "}\n",
       "\n",
       ".vega-embed .vega-actions a {\n",
       "    margin-right: 6px;\n",
       "}\n",
       "\n",
       ".vega-embed .error p {\n",
       "    color: firebrick;\n",
       "    font-size: 1.2em;\n",
       "}\n",
       "</style>\n"
      ]
     },
     "metadata": {
      "jupyter-vega3": "#bd735725-3dd4-477c-ac14-1e97467ef61c"
     },
     "output_type": "display_data"
    },
    {
     "data": {
      "application/javascript": [
       "var spec = {\"config\": {\"view\": {\"width\": 400, \"height\": 300}}, \"data\": {\"values\": [{\"word\": \"work\", \"freq\": 3}, {\"word\": \"crashes\", \"freq\": 3}, {\"word\": \"bad\", \"freq\": 3}, {\"word\": \"email\", \"freq\": 3}, {\"word\": \"option\", \"freq\": 3}, {\"word\": \"data\", \"freq\": 3}]}, \"mark\": {\"type\": \"bar\", \"stroke\": \"Black\"}, \"encoding\": {\"color\": {\"condition\": {\"test\": \"highlight._vgsid_==datum._vgsid_\", \"value\": \"SteelBlue\"}, \"value\": \"LightGrey\"}, \"x\": {\"type\": \"quantitative\", \"axis\": {\"tickCount\": 3, \"title\": \"Count\"}, \"field\": \"freq\"}, \"y\": {\"type\": \"ordinal\", \"axis\": {\"title\": \"Keyword\"}, \"field\": \"word\", \"sort\": {\"op\": \"max\", \"field\": \"freq\", \"order\": \"descending\"}}}, \"selection\": {\"highlight\": {\"type\": \"single\", \"empty\": \"all\", \"on\": \"mouseover\"}}, \"$schema\": \"https://vega.github.io/schema/vega-lite/v2.3.0.json\"};\n",
       "var selector = \"#bd735725-3dd4-477c-ac14-1e97467ef61c\";\n",
       "var type = \"vega-lite\";\n",
       "\n",
       "var output_area = this;\n",
       "require(['nbextensions/jupyter-vega3/index'], function(vega) {\n",
       "  vega.render(selector, spec, type, output_area);\n",
       "}, function (err) {\n",
       "  if (err.requireType !== 'scripterror') {\n",
       "    throw(err);\n",
       "  }\n",
       "});\n"
      ]
     },
     "metadata": {
      "jupyter-vega3": "#bd735725-3dd4-477c-ac14-1e97467ef61c"
     },
     "output_type": "display_data"
    },
    {
     "data": {
      "text/plain": []
     },
     "execution_count": 6,
     "metadata": {},
     "output_type": "execute_result"
    },
    {
     "data": {
      "image/png": "[encoded data removed]"
     },
     "metadata": {
      "jupyter-vega3": "#bd735725-3dd4-477c-ac14-1e97467ef61c"
     },
     "output_type": "display_data"
    }
   ],
   "source": [
    "showTopWords(dfAndroid[dfAndroid.rating==1]['content'])"
   ]
  },
  {
   "cell_type": "code",
   "execution_count": 7,
   "metadata": {
    "scrolled": false
   },
   "outputs": [
    {
     "data": {
      "text/html": [
       "<div class=\"vega-embed\" id=\"e6c0e2f9-90e6-4394-aed4-b323fc017c32\"></div>\n",
       "\n",
       "<style>\n",
       ".vega-embed svg, .vega-embed canvas {\n",
       "    border: 1px dotted gray;\n",
       "}\n",
       "\n",
       ".vega-embed .vega-actions a {\n",
       "    margin-right: 6px;\n",
       "}\n",
       "\n",
       ".vega-embed .error p {\n",
       "    color: firebrick;\n",
       "    font-size: 1.2em;\n",
       "}\n",
       "</style>\n"
      ]
     },
     "metadata": {
      "jupyter-vega3": "#e6c0e2f9-90e6-4394-aed4-b323fc017c32"
     },
     "output_type": "display_data"
    },
    {
     "data": {
      "application/javascript": [
       "var spec = {\"config\": {\"view\": {\"width\": 400, \"height\": 300}}, \"data\": {\"values\": [{\"word\": \"money\", \"freq\": 4}, {\"word\": \"work\", \"freq\": 6}, {\"word\": \"11\", \"freq\": 3}, {\"word\": \"update\", \"freq\": 4}, {\"word\": \"time\", \"freq\": 4}, {\"word\": \"waste\", \"freq\": 3}, {\"word\": \"enter\", \"freq\": 3}, {\"word\": \"asthma\", \"freq\": 4}, {\"word\": \"track\", \"freq\": 3}, {\"word\": \"lost\", \"freq\": 3}]}, \"mark\": {\"type\": \"bar\", \"stroke\": \"Black\"}, \"encoding\": {\"color\": {\"condition\": {\"test\": \"highlight._vgsid_==datum._vgsid_\", \"value\": \"SteelBlue\"}, \"value\": \"LightGrey\"}, \"x\": {\"type\": \"quantitative\", \"axis\": {\"tickCount\": 6, \"title\": \"Count\"}, \"field\": \"freq\"}, \"y\": {\"type\": \"ordinal\", \"axis\": {\"title\": \"Keyword\"}, \"field\": \"word\", \"sort\": {\"op\": \"max\", \"field\": \"freq\", \"order\": \"descending\"}}}, \"selection\": {\"highlight\": {\"type\": \"single\", \"empty\": \"all\", \"on\": \"mouseover\"}}, \"$schema\": \"https://vega.github.io/schema/vega-lite/v2.3.0.json\"};\n",
       "var selector = \"#e6c0e2f9-90e6-4394-aed4-b323fc017c32\";\n",
       "var type = \"vega-lite\";\n",
       "\n",
       "var output_area = this;\n",
       "require(['nbextensions/jupyter-vega3/index'], function(vega) {\n",
       "  vega.render(selector, spec, type, output_area);\n",
       "}, function (err) {\n",
       "  if (err.requireType !== 'scripterror') {\n",
       "    throw(err);\n",
       "  }\n",
       "});\n"
      ]
     },
     "metadata": {
      "jupyter-vega3": "#e6c0e2f9-90e6-4394-aed4-b323fc017c32"
     },
     "output_type": "display_data"
    },
    {
     "data": {
      "text/plain": []
     },
     "execution_count": 7,
     "metadata": {},
     "output_type": "execute_result"
    },
    {
     "data": {
      "image/png": "[encoded data removed]"
     },
     "metadata": {
      "jupyter-vega3": "#e6c0e2f9-90e6-4394-aed4-b323fc017c32"
     },
     "output_type": "display_data"
    }
   ],
   "source": [
    "showTopWords(dfIOS[dfIOS.rating==1]['content'])"
   ]
  },
  {
   "cell_type": "code",
   "execution_count": 8,
   "metadata": {},
   "outputs": [
    {
     "data": {
      "text/html": [
       "<div class=\"vega-embed\" id=\"1c5414b0-572e-43aa-9cd1-492a0a50cc88\"></div>\n",
       "\n",
       "<style>\n",
       ".vega-embed svg, .vega-embed canvas {\n",
       "    border: 1px dotted gray;\n",
       "}\n",
       "\n",
       ".vega-embed .vega-actions a {\n",
       "    margin-right: 6px;\n",
       "}\n",
       "\n",
       ".vega-embed .error p {\n",
       "    color: firebrick;\n",
       "    font-size: 1.2em;\n",
       "}\n",
       "</style>\n"
      ]
     },
     "metadata": {
      "jupyter-vega3": "#1c5414b0-572e-43aa-9cd1-492a0a50cc88"
     },
     "output_type": "display_data"
    },
    {
     "data": {
      "application/javascript": [
       "var spec = {\"config\": {\"view\": {\"width\": 400, \"height\": 300}}, \"data\": {\"values\": [{\"word\": \"time\", \"freq\": 4}, {\"word\": \"usage\", \"freq\": 3}, {\"word\": \"inhaler\", \"freq\": 5}, {\"word\": \"love\", \"freq\": 10}, {\"word\": \"asthma\", \"freq\": 22}, {\"word\": \"perfect\", \"freq\": 5}, {\"word\": \"clear\", \"freq\": 5}, {\"word\": \"reading\", \"freq\": 3}, {\"word\": \"simple\", \"freq\": 8}, {\"word\": \"great\", \"freq\": 22}]}, \"mark\": {\"type\": \"bar\", \"stroke\": \"Black\"}, \"encoding\": {\"color\": {\"condition\": {\"test\": \"highlight._vgsid_==datum._vgsid_\", \"value\": \"SteelBlue\"}, \"value\": \"LightGrey\"}, \"x\": {\"type\": \"quantitative\", \"axis\": {\"tickCount\": 6, \"title\": \"Count\"}, \"field\": \"freq\"}, \"y\": {\"type\": \"ordinal\", \"axis\": {\"title\": \"Keyword\"}, \"field\": \"word\", \"sort\": {\"op\": \"max\", \"field\": \"freq\", \"order\": \"descending\"}}}, \"selection\": {\"highlight\": {\"type\": \"single\", \"empty\": \"all\", \"on\": \"mouseover\"}}, \"$schema\": \"https://vega.github.io/schema/vega-lite/v2.3.0.json\"};\n",
       "var selector = \"#1c5414b0-572e-43aa-9cd1-492a0a50cc88\";\n",
       "var type = \"vega-lite\";\n",
       "\n",
       "var output_area = this;\n",
       "require(['nbextensions/jupyter-vega3/index'], function(vega) {\n",
       "  vega.render(selector, spec, type, output_area);\n",
       "}, function (err) {\n",
       "  if (err.requireType !== 'scripterror') {\n",
       "    throw(err);\n",
       "  }\n",
       "});\n"
      ]
     },
     "metadata": {
      "jupyter-vega3": "#1c5414b0-572e-43aa-9cd1-492a0a50cc88"
     },
     "output_type": "display_data"
    },
    {
     "data": {
      "text/plain": []
     },
     "execution_count": 8,
     "metadata": {},
     "output_type": "execute_result"
    },
    {
     "data": {
      "image/png": "[encoded data removed]"
     },
     "metadata": {
      "jupyter-vega3": "#1c5414b0-572e-43aa-9cd1-492a0a50cc88"
     },
     "output_type": "display_data"
    }
   ],
   "source": [
    "showTopWords(dfAndroid[dfAndroid.rating==5]['content'])"
   ]
  },
  {
   "cell_type": "code",
   "execution_count": 9,
   "metadata": {},
   "outputs": [
    {
     "data": {
      "text/html": [
       "<div class=\"vega-embed\" id=\"0d4a3f47-7dde-4a6c-a3b1-821323376913\"></div>\n",
       "\n",
       "<style>\n",
       ".vega-embed svg, .vega-embed canvas {\n",
       "    border: 1px dotted gray;\n",
       "}\n",
       "\n",
       ".vega-embed .vega-actions a {\n",
       "    margin-right: 6px;\n",
       "}\n",
       "\n",
       ".vega-embed .error p {\n",
       "    color: firebrick;\n",
       "    font-size: 1.2em;\n",
       "}\n",
       "</style>\n"
      ]
     },
     "metadata": {
      "jupyter-vega3": "#0d4a3f47-7dde-4a6c-a3b1-821323376913"
     },
     "output_type": "display_data"
    },
    {
     "data": {
      "application/javascript": [
       "var spec = {\"config\": {\"view\": {\"width\": 400, \"height\": 300}}, \"data\": {\"values\": [{\"word\": \"work\", \"freq\": 3}, {\"word\": \"crashes\", \"freq\": 3}, {\"word\": \"bad\", \"freq\": 3}, {\"word\": \"email\", \"freq\": 3}, {\"word\": \"option\", \"freq\": 3}, {\"word\": \"data\", \"freq\": 3}]}, \"mark\": {\"type\": \"bar\", \"stroke\": \"Black\"}, \"encoding\": {\"color\": {\"condition\": {\"test\": \"highlight._vgsid_==datum._vgsid_\", \"value\": \"SteelBlue\"}, \"value\": \"LightGrey\"}, \"x\": {\"type\": \"quantitative\", \"axis\": {\"tickCount\": 3, \"title\": \"Count\"}, \"field\": \"freq\"}, \"y\": {\"type\": \"ordinal\", \"axis\": {\"title\": \"Keyword\"}, \"field\": \"word\", \"sort\": {\"op\": \"max\", \"field\": \"freq\", \"order\": \"descending\"}}}, \"selection\": {\"highlight\": {\"type\": \"single\", \"empty\": \"all\", \"on\": \"mouseover\"}}, \"$schema\": \"https://vega.github.io/schema/vega-lite/v2.3.0.json\"};\n",
       "var selector = \"#0d4a3f47-7dde-4a6c-a3b1-821323376913\";\n",
       "var type = \"vega-lite\";\n",
       "\n",
       "var output_area = this;\n",
       "require(['nbextensions/jupyter-vega3/index'], function(vega) {\n",
       "  vega.render(selector, spec, type, output_area);\n",
       "}, function (err) {\n",
       "  if (err.requireType !== 'scripterror') {\n",
       "    throw(err);\n",
       "  }\n",
       "});\n"
      ]
     },
     "metadata": {
      "jupyter-vega3": "#0d4a3f47-7dde-4a6c-a3b1-821323376913"
     },
     "output_type": "display_data"
    },
    {
     "data": {
      "text/plain": []
     },
     "execution_count": 9,
     "metadata": {},
     "output_type": "execute_result"
    },
    {
     "data": {
      "image/png": "[encoded data removed]"
     },
     "metadata": {
      "jupyter-vega3": "#0d4a3f47-7dde-4a6c-a3b1-821323376913"
     },
     "output_type": "display_data"
    }
   ],
   "source": [
    "showTopWords(dfAndroid[dfAndroid.rating==1]['content'])"
   ]
  },
  {
   "cell_type": "code",
   "execution_count": null,
   "metadata": {},
   "outputs": [],
   "source": []
  }
 ],
 "metadata": {
  "kernelspec": {
   "display_name": "Python 3",
   "language": "python",
   "name": "python3"
  },
  "language_info": {
   "codemirror_mode": {
    "name": "ipython",
    "version": 3
   },
   "file_extension": ".py",
   "mimetype": "text/x-python",
   "name": "python",
   "nbconvert_exporter": "python",
   "pygments_lexer": "ipython3",
   "version": "3.7.0"
  }
 },
 "nbformat": 4,
 "nbformat_minor": 2
}
